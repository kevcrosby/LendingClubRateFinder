{
 "cells": [
  {
   "cell_type": "code",
   "execution_count": 71,
   "metadata": {
    "collapsed": true
   },
   "outputs": [],
   "source": [
    "import pandas as pd\n",
    "import numpy as np"
   ]
  },
  {
   "cell_type": "code",
   "execution_count": 72,
   "metadata": {
    "scrolled": true
   },
   "outputs": [
    {
     "name": "stdout",
     "output_type": "stream",
     "text": [
      "5.32\n"
     ]
    },
    {
     "data": {
      "text/html": [
       "<div>\n",
       "<style>\n",
       "    .dataframe thead tr:only-child th {\n",
       "        text-align: right;\n",
       "    }\n",
       "\n",
       "    .dataframe thead th {\n",
       "        text-align: left;\n",
       "    }\n",
       "\n",
       "    .dataframe tbody tr th {\n",
       "        vertical-align: top;\n",
       "    }\n",
       "</style>\n",
       "<table border=\"1\" class=\"dataframe\">\n",
       "  <thead>\n",
       "    <tr style=\"text-align: right;\">\n",
       "      <th></th>\n",
       "      <th>Int_Rate</th>\n",
       "      <th>Investment</th>\n",
       "      <th>Term</th>\n",
       "      <th>Grade</th>\n",
       "      <th>Employment_Len</th>\n",
       "      <th>Home_Ownership</th>\n",
       "      <th>Annual_Income</th>\n",
       "      <th>Purpose</th>\n",
       "      <th>State</th>\n",
       "      <th>Debt_To_Income</th>\n",
       "      <th>Delinquance_2year</th>\n",
       "    </tr>\n",
       "  </thead>\n",
       "  <tbody>\n",
       "    <tr>\n",
       "      <th>0</th>\n",
       "      <td>5.32</td>\n",
       "      <td>4800.0</td>\n",
       "      <td>36</td>\n",
       "      <td>A</td>\n",
       "      <td>2 years</td>\n",
       "      <td>MORTGAGE</td>\n",
       "      <td>143000.0</td>\n",
       "      <td>medical</td>\n",
       "      <td>KY</td>\n",
       "      <td>7.88</td>\n",
       "      <td>0</td>\n",
       "    </tr>\n",
       "    <tr>\n",
       "      <th>1</th>\n",
       "      <td>16.02</td>\n",
       "      <td>16000.0</td>\n",
       "      <td>60</td>\n",
       "      <td>C</td>\n",
       "      <td>9 years</td>\n",
       "      <td>MORTGAGE</td>\n",
       "      <td>40000.0</td>\n",
       "      <td>debt_consolidation</td>\n",
       "      <td>TN</td>\n",
       "      <td>32.01</td>\n",
       "      <td>0</td>\n",
       "    </tr>\n",
       "    <tr>\n",
       "      <th>2</th>\n",
       "      <td>11.99</td>\n",
       "      <td>32600.0</td>\n",
       "      <td>36</td>\n",
       "      <td>B</td>\n",
       "      <td>&lt; 1 year</td>\n",
       "      <td>RENT</td>\n",
       "      <td>55000.0</td>\n",
       "      <td>house</td>\n",
       "      <td>CA</td>\n",
       "      <td>25.41</td>\n",
       "      <td>0</td>\n",
       "    </tr>\n",
       "    <tr>\n",
       "      <th>3</th>\n",
       "      <td>6.08</td>\n",
       "      <td>10000.0</td>\n",
       "      <td>36</td>\n",
       "      <td>A</td>\n",
       "      <td>7 years</td>\n",
       "      <td>MORTGAGE</td>\n",
       "      <td>54000.0</td>\n",
       "      <td>car</td>\n",
       "      <td>NY</td>\n",
       "      <td>0.56</td>\n",
       "      <td>0</td>\n",
       "    </tr>\n",
       "    <tr>\n",
       "      <th>4</th>\n",
       "      <td>5.32</td>\n",
       "      <td>9000.0</td>\n",
       "      <td>36</td>\n",
       "      <td>A</td>\n",
       "      <td>10+ years</td>\n",
       "      <td>OWN</td>\n",
       "      <td>158000.0</td>\n",
       "      <td>credit_card</td>\n",
       "      <td>NY</td>\n",
       "      <td>6.74</td>\n",
       "      <td>0</td>\n",
       "    </tr>\n",
       "  </tbody>\n",
       "</table>\n",
       "</div>"
      ],
      "text/plain": [
       "   Int_Rate  Investment  Term Grade Employment_Len Home_Ownership  \\\n",
       "0      5.32      4800.0    36     A        2 years       MORTGAGE   \n",
       "1     16.02     16000.0    60     C        9 years       MORTGAGE   \n",
       "2     11.99     32600.0    36     B       < 1 year           RENT   \n",
       "3      6.08     10000.0    36     A        7 years       MORTGAGE   \n",
       "4      5.32      9000.0    36     A      10+ years            OWN   \n",
       "\n",
       "   Annual_Income             Purpose State  Debt_To_Income  Delinquance_2year  \n",
       "0       143000.0             medical    KY            7.88                  0  \n",
       "1        40000.0  debt_consolidation    TN           32.01                  0  \n",
       "2        55000.0               house    CA           25.41                  0  \n",
       "3        54000.0                 car    NY            0.56                  0  \n",
       "4       158000.0         credit_card    NY            6.74                  0  "
      ]
     },
     "execution_count": 72,
     "metadata": {},
     "output_type": "execute_result"
    }
   ],
   "source": [
    "loan = pd.read_csv(\"Loan_Data3.csv\")\n",
    "\n",
    "print(loan['Int_Rate'][0])\n",
    "loan.head()\n"
   ]
  },
  {
   "cell_type": "code",
   "execution_count": 73,
   "metadata": {},
   "outputs": [
    {
     "data": {
      "text/plain": [
       "Index(['Int_Rate', 'Investment', 'Term', 'Grade', 'Employment_Len',\n",
       "       'Home_Ownership', 'Annual_Income', 'Purpose', 'State', 'Debt_To_Income',\n",
       "       'Delinquance_2year'],\n",
       "      dtype='object')"
      ]
     },
     "execution_count": 73,
     "metadata": {},
     "output_type": "execute_result"
    }
   ],
   "source": [
    "#failures = loan.loc[loan[\"Grade\"]==\"F\"]\n",
    "\n",
    "#failures.head(5)\n",
    "loan.columns"
   ]
  },
  {
   "cell_type": "code",
   "execution_count": 74,
   "metadata": {},
   "outputs": [
    {
     "data": {
      "text/html": [
       "<div>\n",
       "<style>\n",
       "    .dataframe thead tr:only-child th {\n",
       "        text-align: right;\n",
       "    }\n",
       "\n",
       "    .dataframe thead th {\n",
       "        text-align: left;\n",
       "    }\n",
       "\n",
       "    .dataframe tbody tr th {\n",
       "        vertical-align: top;\n",
       "    }\n",
       "</style>\n",
       "<table border=\"1\" class=\"dataframe\">\n",
       "  <thead>\n",
       "    <tr style=\"text-align: right;\">\n",
       "      <th></th>\n",
       "      <th>Int_Rate</th>\n",
       "      <th>Investment</th>\n",
       "      <th>Term</th>\n",
       "      <th>Grade</th>\n",
       "      <th>Employment_Len</th>\n",
       "      <th>Home_Ownership</th>\n",
       "      <th>Annual_Income</th>\n",
       "      <th>Purpose</th>\n",
       "      <th>State</th>\n",
       "      <th>Debt_To_Income</th>\n",
       "      <th>Delinquance_2year</th>\n",
       "    </tr>\n",
       "  </thead>\n",
       "  <tbody>\n",
       "    <tr>\n",
       "      <th>0</th>\n",
       "      <td>5.32</td>\n",
       "      <td>4800.0</td>\n",
       "      <td>36</td>\n",
       "      <td>A</td>\n",
       "      <td>2 years</td>\n",
       "      <td>MORTGAGE</td>\n",
       "      <td>143000.0</td>\n",
       "      <td>medical</td>\n",
       "      <td>KY</td>\n",
       "      <td>7.88</td>\n",
       "      <td>0</td>\n",
       "    </tr>\n",
       "    <tr>\n",
       "      <th>1</th>\n",
       "      <td>16.02</td>\n",
       "      <td>16000.0</td>\n",
       "      <td>60</td>\n",
       "      <td>C</td>\n",
       "      <td>9 years</td>\n",
       "      <td>MORTGAGE</td>\n",
       "      <td>40000.0</td>\n",
       "      <td>debt_consolidation</td>\n",
       "      <td>TN</td>\n",
       "      <td>32.01</td>\n",
       "      <td>0</td>\n",
       "    </tr>\n",
       "    <tr>\n",
       "      <th>2</th>\n",
       "      <td>11.99</td>\n",
       "      <td>32600.0</td>\n",
       "      <td>36</td>\n",
       "      <td>B</td>\n",
       "      <td>&lt; 1 year</td>\n",
       "      <td>RENT</td>\n",
       "      <td>55000.0</td>\n",
       "      <td>house</td>\n",
       "      <td>CA</td>\n",
       "      <td>25.41</td>\n",
       "      <td>0</td>\n",
       "    </tr>\n",
       "    <tr>\n",
       "      <th>3</th>\n",
       "      <td>6.08</td>\n",
       "      <td>10000.0</td>\n",
       "      <td>36</td>\n",
       "      <td>A</td>\n",
       "      <td>7 years</td>\n",
       "      <td>MORTGAGE</td>\n",
       "      <td>54000.0</td>\n",
       "      <td>car</td>\n",
       "      <td>NY</td>\n",
       "      <td>0.56</td>\n",
       "      <td>0</td>\n",
       "    </tr>\n",
       "    <tr>\n",
       "      <th>4</th>\n",
       "      <td>5.32</td>\n",
       "      <td>9000.0</td>\n",
       "      <td>36</td>\n",
       "      <td>A</td>\n",
       "      <td>10+ years</td>\n",
       "      <td>OWN</td>\n",
       "      <td>158000.0</td>\n",
       "      <td>credit_card</td>\n",
       "      <td>NY</td>\n",
       "      <td>6.74</td>\n",
       "      <td>0</td>\n",
       "    </tr>\n",
       "  </tbody>\n",
       "</table>\n",
       "</div>"
      ],
      "text/plain": [
       "   Int_Rate  Investment  Term Grade Employment_Len Home_Ownership  \\\n",
       "0      5.32      4800.0    36     A        2 years       MORTGAGE   \n",
       "1     16.02     16000.0    60     C        9 years       MORTGAGE   \n",
       "2     11.99     32600.0    36     B       < 1 year           RENT   \n",
       "3      6.08     10000.0    36     A        7 years       MORTGAGE   \n",
       "4      5.32      9000.0    36     A      10+ years            OWN   \n",
       "\n",
       "   Annual_Income             Purpose State  Debt_To_Income  Delinquance_2year  \n",
       "0       143000.0             medical    KY            7.88                  0  \n",
       "1        40000.0  debt_consolidation    TN           32.01                  0  \n",
       "2        55000.0               house    CA           25.41                  0  \n",
       "3        54000.0                 car    NY            0.56                  0  \n",
       "4       158000.0         credit_card    NY            6.74                  0  "
      ]
     },
     "execution_count": 74,
     "metadata": {},
     "output_type": "execute_result"
    }
   ],
   "source": [
    "#loan.to_csv(\"Loan_Data2.csv\",index=False)\n",
    "loan.head()"
   ]
  },
  {
   "cell_type": "markdown",
   "metadata": {},
   "source": [
    "## DATA PREPROCESSING"
   ]
  },
  {
   "cell_type": "code",
   "execution_count": 69,
   "metadata": {},
   "outputs": [
    {
     "data": {
      "text/plain": [
       "Int_Rate                  7.35\n",
       "Investment                5000\n",
       "Term                        36\n",
       "Grade                        A\n",
       "Employment_Len       10+ years\n",
       "Home_Ownership        MORTGAGE\n",
       "Annual_Income            38400\n",
       "Purpose                  house\n",
       "State                       CA\n",
       "Debt_To_Income            5.56\n",
       "Delinquance_2year            0\n",
       "Name: 5430, dtype: object"
      ]
     },
     "execution_count": 69,
     "metadata": {},
     "output_type": "execute_result"
    }
   ],
   "source": [
    "\n",
    "\n",
    "loan.ix[5430]"
   ]
  },
  {
   "cell_type": "code",
   "execution_count": 75,
   "metadata": {},
   "outputs": [
    {
     "name": "stdout",
     "output_type": "stream",
     "text": [
      "float64\n",
      "float64\n",
      "int64\n",
      "int64\n",
      "int64\n",
      "int64\n",
      "float64\n",
      "int64\n",
      "int64\n",
      "float64\n",
      "int64\n"
     ]
    },
    {
     "data": {
      "text/html": [
       "<div>\n",
       "<style>\n",
       "    .dataframe thead tr:only-child th {\n",
       "        text-align: right;\n",
       "    }\n",
       "\n",
       "    .dataframe thead th {\n",
       "        text-align: left;\n",
       "    }\n",
       "\n",
       "    .dataframe tbody tr th {\n",
       "        vertical-align: top;\n",
       "    }\n",
       "</style>\n",
       "<table border=\"1\" class=\"dataframe\">\n",
       "  <thead>\n",
       "    <tr style=\"text-align: right;\">\n",
       "      <th></th>\n",
       "      <th>Int_Rate</th>\n",
       "      <th>Investment</th>\n",
       "      <th>Term</th>\n",
       "      <th>Grade</th>\n",
       "      <th>Employment_Len</th>\n",
       "      <th>Home_Ownership</th>\n",
       "      <th>Annual_Income</th>\n",
       "      <th>Purpose</th>\n",
       "      <th>State</th>\n",
       "      <th>Debt_To_Income</th>\n",
       "      <th>Delinquance_2year</th>\n",
       "    </tr>\n",
       "  </thead>\n",
       "  <tbody>\n",
       "    <tr>\n",
       "      <th>0</th>\n",
       "      <td>5.32</td>\n",
       "      <td>4800.0</td>\n",
       "      <td>36</td>\n",
       "      <td>0</td>\n",
       "      <td>2</td>\n",
       "      <td>1</td>\n",
       "      <td>143000.0</td>\n",
       "      <td>7</td>\n",
       "      <td>16</td>\n",
       "      <td>7.88</td>\n",
       "      <td>0</td>\n",
       "    </tr>\n",
       "    <tr>\n",
       "      <th>1</th>\n",
       "      <td>16.02</td>\n",
       "      <td>16000.0</td>\n",
       "      <td>60</td>\n",
       "      <td>2</td>\n",
       "      <td>9</td>\n",
       "      <td>1</td>\n",
       "      <td>40000.0</td>\n",
       "      <td>2</td>\n",
       "      <td>41</td>\n",
       "      <td>32.01</td>\n",
       "      <td>0</td>\n",
       "    </tr>\n",
       "    <tr>\n",
       "      <th>2</th>\n",
       "      <td>11.99</td>\n",
       "      <td>32600.0</td>\n",
       "      <td>36</td>\n",
       "      <td>1</td>\n",
       "      <td>10</td>\n",
       "      <td>4</td>\n",
       "      <td>55000.0</td>\n",
       "      <td>5</td>\n",
       "      <td>4</td>\n",
       "      <td>25.41</td>\n",
       "      <td>0</td>\n",
       "    </tr>\n",
       "    <tr>\n",
       "      <th>3</th>\n",
       "      <td>6.08</td>\n",
       "      <td>10000.0</td>\n",
       "      <td>36</td>\n",
       "      <td>0</td>\n",
       "      <td>7</td>\n",
       "      <td>1</td>\n",
       "      <td>54000.0</td>\n",
       "      <td>0</td>\n",
       "      <td>33</td>\n",
       "      <td>0.56</td>\n",
       "      <td>0</td>\n",
       "    </tr>\n",
       "    <tr>\n",
       "      <th>4</th>\n",
       "      <td>5.32</td>\n",
       "      <td>9000.0</td>\n",
       "      <td>36</td>\n",
       "      <td>0</td>\n",
       "      <td>1</td>\n",
       "      <td>3</td>\n",
       "      <td>158000.0</td>\n",
       "      <td>1</td>\n",
       "      <td>33</td>\n",
       "      <td>6.74</td>\n",
       "      <td>0</td>\n",
       "    </tr>\n",
       "  </tbody>\n",
       "</table>\n",
       "</div>"
      ],
      "text/plain": [
       "   Int_Rate  Investment  Term  Grade  Employment_Len  Home_Ownership  \\\n",
       "0      5.32      4800.0    36      0               2               1   \n",
       "1     16.02     16000.0    60      2               9               1   \n",
       "2     11.99     32600.0    36      1              10               4   \n",
       "3      6.08     10000.0    36      0               7               1   \n",
       "4      5.32      9000.0    36      0               1               3   \n",
       "\n",
       "   Annual_Income  Purpose  State  Debt_To_Income  Delinquance_2year  \n",
       "0       143000.0        7     16            7.88                  0  \n",
       "1        40000.0        2     41           32.01                  0  \n",
       "2        55000.0        5      4           25.41                  0  \n",
       "3        54000.0        0     33            0.56                  0  \n",
       "4       158000.0        1     33            6.74                  0  "
      ]
     },
     "execution_count": 75,
     "metadata": {},
     "output_type": "execute_result"
    }
   ],
   "source": [
    "#One-Hot-Encode the Categorical X Fields\n",
    "\n",
    "\n",
    "from sklearn.preprocessing import LabelEncoder, StandardScaler\n",
    "\n",
    "\n",
    "for column in loan.columns:\n",
    "    \n",
    "    if loan[column].dtype == type(object):\n",
    "        le = LabelEncoder()\n",
    "        loan[column]=le.fit_transform(loan[column].astype(str))\n",
    "        \n",
    "    print(loan[column].dtype)\n",
    "        \n",
    "        \n",
    "    \n",
    "loan.head()"
   ]
  },
  {
   "cell_type": "code",
   "execution_count": 70,
   "metadata": {},
   "outputs": [
    {
     "data": {
      "text/plain": [
       "Int_Rate                 7.35\n",
       "Investment            5000.00\n",
       "Term                    36.00\n",
       "Grade                    0.00\n",
       "Employment_Len           1.00\n",
       "Home_Ownership           1.00\n",
       "Annual_Income        38400.00\n",
       "Purpose                  5.00\n",
       "State                    4.00\n",
       "Debt_To_Income           5.56\n",
       "Delinquance_2year        0.00\n",
       "Name: 5430, dtype: float64"
      ]
     },
     "execution_count": 70,
     "metadata": {},
     "output_type": "execute_result"
    }
   ],
   "source": [
    "#First entry of encoded fit_transform data\n",
    "test_loan.ix[5430]"
   ]
  },
  {
   "cell_type": "code",
   "execution_count": 76,
   "metadata": {},
   "outputs": [
    {
     "data": {
      "text/plain": [
       "Int_Rate             464745\n",
       "Investment           464745\n",
       "Term                 464745\n",
       "Grade                464745\n",
       "Employment_Len       464745\n",
       "Home_Ownership       464745\n",
       "Annual_Income        464745\n",
       "Purpose              464745\n",
       "State                464745\n",
       "Debt_To_Income       464745\n",
       "Delinquance_2year    464745\n",
       "dtype: int64"
      ]
     },
     "execution_count": 76,
     "metadata": {},
     "output_type": "execute_result"
    }
   ],
   "source": [
    "#confirm all columns have same length\n",
    "\n",
    "loan.count()\n"
   ]
  },
  {
   "cell_type": "code",
   "execution_count": 77,
   "metadata": {},
   "outputs": [
    {
     "name": "stdout",
     "output_type": "stream",
     "text": [
      "(464745, 10) (464745,)\n"
     ]
    }
   ],
   "source": [
    "#test X and y, report lengths\n",
    "#x are entire dataset fields short of the one we are predicting(Interest rate), dropped \n",
    "X=loan.drop(\"Int_Rate\",axis=1)\n",
    "y=loan[\"Int_Rate\"]\n",
    "print(X.shape,y.shape)"
   ]
  },
  {
   "cell_type": "code",
   "execution_count": 78,
   "metadata": {},
   "outputs": [],
   "source": [
    "#Split into Training and Test Data\n",
    "\n",
    "#import deeplearning modules\n",
    "from sklearn.model_selection import train_test_split\n",
    "from sklearn.preprocessing import LabelEncoder, StandardScaler\n",
    "from keras.utils import to_categorical\n",
    "\n",
    "#split data into training and test sets\n",
    "X_train, X_test, y_train, y_test = train_test_split(X, y, train_size=.90, test_size=.1, random_state=1)\n",
    "\n",
    "X_scaler = StandardScaler().fit(X_train)\n",
    "\n",
    "X_train_scaled = X_scaler.transform(X_train)\n",
    "X_test_scaled = X_scaler.transform(X_test)\n",
    "\n"
   ]
  },
  {
   "cell_type": "code",
   "execution_count": 79,
   "metadata": {},
   "outputs": [
    {
     "name": "stdout",
     "output_type": "stream",
     "text": [
      "(418270, 10)\n",
      "(418270,)\n"
     ]
    }
   ],
   "source": [
    "# Step 1: Label-encode data set\n",
    "label_encoder = LabelEncoder()\n",
    "label_encoder.fit(y_train)\n",
    "\n",
    "encoded_y_train = label_encoder.transform(y_train)\n",
    "encoded_y_test = label_encoder.transform(y_test)\n",
    "\n",
    "\n",
    "# Step 2: Convert encoded labels to one-hot-encoding\n",
    "y_train_categorical = to_categorical(encoded_y_train)\n",
    "y_test_categorical = to_categorical(encoded_y_test)\n",
    "\n",
    "\n",
    "print(X_train.shape)\n",
    "print(y_train.shape)"
   ]
  },
  {
   "cell_type": "code",
   "execution_count": 81,
   "metadata": {},
   "outputs": [
    {
     "data": {
      "text/plain": [
       "array([[ 0.72167821, -0.6385661 , -1.33292391,  0.7591329 ,  1.11627639,\n",
       "        -0.3045977 , -0.36769146, -0.91994625,  0.44115882, -0.34333895]])"
      ]
     },
     "execution_count": 81,
     "metadata": {},
     "output_type": "execute_result"
    }
   ],
   "source": [
    "X_train_scaled[:1]"
   ]
  },
  {
   "cell_type": "code",
   "execution_count": 80,
   "metadata": {
    "collapsed": true
   },
   "outputs": [],
   "source": [
    "#import statements\n",
    "from keras.models import Sequential\n",
    "from keras.layers import Dense\n",
    "\n",
    "\n",
    "#add more layers where needed\n",
    "model = Sequential()\n",
    "\n",
    "model.add(Dense(units=100, activation='relu', input_dim=10))\n",
    "\n",
    "model.add(Dense(units=100, activation='relu'))\n",
    "model.add(Dense(units=100, activation='relu'))\n",
    "#model.add(Dense(units=100, activation='relu'))\n",
    "#model.add(Dense(units=100, activation='relu'))\n",
    "#model.add(Dense(units=100, activation='relu'))\n",
    "#model.add(Dense(units=100, activation='relu'))\n",
    "\n",
    "\n",
    "#**********need to change number of nodes after I'm able to scale all X categories*****\n",
    "model.add(Dense(units=67, activation='softmax'))"
   ]
  },
  {
   "cell_type": "code",
   "execution_count": 81,
   "metadata": {},
   "outputs": [
    {
     "name": "stdout",
     "output_type": "stream",
     "text": [
      "Epoch 1/5\n",
      " - 40s - loss: 1.9759 - acc: 0.2149\n",
      "Epoch 2/5\n",
      " - 40s - loss: 1.9243 - acc: 0.2259\n",
      "Epoch 3/5\n",
      " - 39s - loss: 1.9188 - acc: 0.2279\n",
      "Epoch 4/5\n",
      " - 38s - loss: 1.9167 - acc: 0.2308\n",
      "Epoch 5/5\n",
      " - 39s - loss: 1.9148 - acc: 0.2305\n"
     ]
    },
    {
     "data": {
      "text/plain": [
       "<keras.callbacks.History at 0x24c2613fdd8>"
      ]
     },
     "execution_count": 81,
     "metadata": {},
     "output_type": "execute_result"
    }
   ],
   "source": [
    "#===============================TEST===============\n",
    "#Compile the model - CHANGE EPOCHS\n",
    "model.compile(optimizer='adam', \n",
    "              loss='categorical_crossentropy', \n",
    "              metrics=['accuracy'])\n",
    "\n",
    "\n",
    "model.fit(\n",
    "    X_train_scaled,\n",
    "    y_train_categorical,\n",
    "    epochs=5,\n",
    "    shuffle=True,\n",
    "    verbose=2\n",
    ")\n"
   ]
  },
  {
   "cell_type": "code",
   "execution_count": null,
   "metadata": {
    "collapsed": true
   },
   "outputs": [],
   "source": [
    "model_loss, model_accuracy = model.evaluate(X_test_scaled, y_test_categorical, verbose=2)\n",
    "\n",
    "print(f\"Normal Neural Network - Loss: {model_loss}, Accuracy: {model_accuracy}\")"
   ]
  },
  {
   "cell_type": "code",
   "execution_count": 82,
   "metadata": {},
   "outputs": [
    {
     "name": "stdout",
     "output_type": "stream",
     "text": [
      "Predicted Interest Rate: [  9.93  12.62   7.35   9.93   9.44  12.62   9.44  17.09  11.99  10.91\n",
      "  17.09   9.93   9.44  12.62  18.06  10.91  12.62  10.91  10.91  17.09\n",
      "  10.91   7.97  15.05  17.09   9.44]\n",
      "Actual Interest Rate: [11.99, 12.619999999999999, 7.3499999999999996, 10.91, 8.2400000000000002, 13.59, 10.42, 20.0, 9.4399999999999995, 10.42, 19.030000000000001, 11.390000000000001, 9.4399999999999995, 12.74, 18.059999999999999, 10.91, 12.619999999999999, 10.91, 9.4399999999999995, 20.0, 10.91, 7.9699999999999998, 16.02, 17.09, 10.42]\n"
     ]
    }
   ],
   "source": [
    "#prediction testing\n",
    "encoded_predictions = model.predict_classes(X_test_scaled[:25])\n",
    "\n",
    "prediction_labels = label_encoder.inverse_transform(encoded_predictions)\n",
    "\n",
    "print(f\"Predicted Interest Rate: {prediction_labels}\")\n",
    "print(f\"Actual Interest Rate: {list(y_test[:25])}\")\n",
    "\n"
   ]
  },
  {
   "cell_type": "code",
   "execution_count": 68,
   "metadata": {},
   "outputs": [
    {
     "name": "stdout",
     "output_type": "stream",
     "text": [
      "430044    10.42\n",
      "396725    15.05\n",
      "5430       7.35\n",
      "Name: Int_Rate, dtype: float64\n"
     ]
    }
   ],
   "source": [
    "#===================Test columns to check inputs for predictions============\n",
    "\n",
    "print(y_test[:3])"
   ]
  },
  {
   "cell_type": "code",
   "execution_count": 56,
   "metadata": {
    "collapsed": true
   },
   "outputs": [],
   "source": [
    "# Save the model\n",
    "model.save(\"loan_model_trained.h5\")"
   ]
  },
  {
   "cell_type": "markdown",
   "metadata": {
    "collapsed": true
   },
   "source": [
    "# PREDICTING NEW VALUES"
   ]
  },
  {
   "cell_type": "code",
   "execution_count": null,
   "metadata": {
    "collapsed": true
   },
   "outputs": [],
   "source": [
    "Int_Rate                      16.02\n",
    "Investment                     4000\n",
    "Term                             36\n",
    "Grade                             C\n",
    "Employment_Len              2 years\n",
    "Home_Ownership                 RENT\n",
    "Annual_Income                 28000\n",
    "Purpose              major_purchase\n",
    "State                            IL\n",
    "Debt_To_Income                 12.3\n",
    "Delinquance_2year                 0"
   ]
  },
  {
   "cell_type": "code",
   "execution_count": 15,
   "metadata": {},
   "outputs": [],
   "source": [
    "from keras.models import Sequential\n",
    "from keras.layers import Dense\n",
    "from keras.models import load_model\n",
    "\n",
    "model = load_model(\"loan_model_trained.h5\")"
   ]
  },
  {
   "cell_type": "code",
   "execution_count": 52,
   "metadata": {},
   "outputs": [
    {
     "data": {
      "text/html": [
       "<div>\n",
       "<style>\n",
       "    .dataframe thead tr:only-child th {\n",
       "        text-align: right;\n",
       "    }\n",
       "\n",
       "    .dataframe thead th {\n",
       "        text-align: left;\n",
       "    }\n",
       "\n",
       "    .dataframe tbody tr th {\n",
       "        vertical-align: top;\n",
       "    }\n",
       "</style>\n",
       "<table border=\"1\" class=\"dataframe\">\n",
       "  <thead>\n",
       "    <tr style=\"text-align: right;\">\n",
       "      <th></th>\n",
       "      <th>Int_Rate</th>\n",
       "      <th>Investment</th>\n",
       "      <th>Term</th>\n",
       "      <th>Grade</th>\n",
       "      <th>Employment_Len</th>\n",
       "      <th>Home_Ownership</th>\n",
       "      <th>Annual_Income</th>\n",
       "      <th>Purpose</th>\n",
       "      <th>State</th>\n",
       "      <th>Debt_To_Income</th>\n",
       "      <th>Delinquance_2year</th>\n",
       "    </tr>\n",
       "  </thead>\n",
       "  <tbody>\n",
       "    <tr>\n",
       "      <th>0</th>\n",
       "      <td>16.02</td>\n",
       "      <td>4000.0</td>\n",
       "      <td>36</td>\n",
       "      <td>C</td>\n",
       "      <td>2 years</td>\n",
       "      <td>RENT</td>\n",
       "      <td>28000.0</td>\n",
       "      <td>major_purchase</td>\n",
       "      <td>IL</td>\n",
       "      <td>12.3</td>\n",
       "      <td>0</td>\n",
       "    </tr>\n",
       "  </tbody>\n",
       "</table>\n",
       "</div>"
      ],
      "text/plain": [
       "   Int_Rate  Investment  Term Grade Employment_Len Home_Ownership  \\\n",
       "0     16.02      4000.0    36     C        2 years           RENT   \n",
       "\n",
       "   Annual_Income         Purpose State  Debt_To_Income  Delinquance_2year  \n",
       "0        28000.0  major_purchase    IL            12.3                  0  "
      ]
     },
     "execution_count": 52,
     "metadata": {},
     "output_type": "execute_result"
    }
   ],
   "source": [
    "from sklearn.preprocessing import LabelEncoder, StandardScaler\n",
    "Int_Rate=16.02\n",
    "Investment = 4000.0\n",
    "Term = 36\n",
    "Grade = \"C\"\n",
    "Employment_Len = \"2 years\"\n",
    "Home_Ownership = \"RENT\"\n",
    "Annual_Income=28000.0\n",
    "Purpose = \"major_purchase\"\n",
    "State = \"IL\"\n",
    "Debt_To_Income = 12.3\n",
    "Delinquence_2year = 0\n",
    "\n",
    "loan_array = [Int_Rate,Investment,Term,Grade,Employment_Len,Home_Ownership,Annual_Income,Purpose,State,Debt_To_Income,Delinquence_2year]\n",
    "\n",
    "user_input = pd.DataFrame(data=[loan_array],columns=['Int_Rate','Investment', 'Term', 'Grade', 'Employment_Len','Home_Ownership', 'Annual_Income', 'Purpose', 'State', 'Debt_To_Income','Delinquance_2year'])\n",
    "\n",
    "\n",
    "\n",
    "\n",
    "#construct loan_input\n",
    "test_loan = pd.read_csv(\"Loan_Data3.csv\")\n",
    "\n",
    "\n",
    "test_loan=test_loan.append(user_input)\n",
    "\n",
    "test_loan.tail(1)"
   ]
  },
  {
   "cell_type": "code",
   "execution_count": 53,
   "metadata": {
    "scrolled": true
   },
   "outputs": [
    {
     "name": "stdout",
     "output_type": "stream",
     "text": [
      "float64\n",
      "float64\n",
      "int64\n",
      "int64\n",
      "int64\n",
      "int64\n",
      "float64\n",
      "int64\n",
      "int64\n",
      "float64\n",
      "int64\n",
      "Int_Rate             464746\n",
      "Investment           464746\n",
      "Term                 464746\n",
      "Grade                464746\n",
      "Employment_Len       464746\n",
      "Home_Ownership       464746\n",
      "Annual_Income        464746\n",
      "Purpose              464746\n",
      "State                464746\n",
      "Debt_To_Income       464746\n",
      "Delinquance_2year    464746\n",
      "dtype: int64\n"
     ]
    }
   ],
   "source": [
    "#RE FIT/TRANSFORM WITH NEW ROW THAT WE WANT TO PREDICT\n",
    "#One Hot Encoding for String X Columns\n",
    "for column in test_loan.columns:\n",
    "   \n",
    "   if test_loan[column].dtype == type(object):\n",
    "       le = LabelEncoder()\n",
    "       test_loan[column]=le.fit_transform(test_loan[column].astype(str))\n",
    "   print(test_loan[column].dtype)\n",
    "\n",
    "print(test_loan.count())"
   ]
  },
  {
   "cell_type": "code",
   "execution_count": 54,
   "metadata": {},
   "outputs": [
    {
     "name": "stdout",
     "output_type": "stream",
     "text": [
      "[-1.12172927 -0.63803346  0.33363688 -0.59572424  1.11560157 -0.27584774\n",
      "  1.17931298 -0.64448517 -0.37591755 -0.34230323]\n"
     ]
    }
   ],
   "source": [
    "\n",
    "#remove int_rate from dataset\n",
    "\n",
    "X=test_loan.drop(\"Int_Rate\",axis=1)\n",
    "y=test_loan[\"Int_Rate\"]\n",
    "\n",
    "\n",
    "from sklearn.model_selection import train_test_split\n",
    "from sklearn.preprocessing import LabelEncoder, StandardScaler\n",
    "from keras.utils import to_categorical\n",
    "\n",
    "\n",
    "#take one-hot-encoded last row to grab user input\n",
    "one_hot_input = test_loan.tail(1)\n",
    "\n",
    "#drop the temporary Int_Rate from one_hot_input\n",
    "one_hot_input = one_hot_input.drop(\"Int_Rate\",axis=1)\n",
    "\n",
    "#drop tail from dataset to ensure we have it in the train(will put it right back in)\n",
    "test_loan = test_loan.drop(test_loan.index[len(test_loan)-1])\n",
    "\n",
    "#split data into training and test sets\n",
    "X_train, X_test, y_train, y_test = train_test_split(X, y, train_size=.90, test_size=.1, random_state=1)\n",
    "\n",
    "#add one hot encoded user input row back to X_train\n",
    "X_train=X_train.append(one_hot_input)\n",
    "\n",
    "#finish fitting and transforming data\n",
    "X_scaler = StandardScaler().fit(X_train)\n",
    "\n",
    "X_train_scaled = X_scaler.transform(X_train)\n",
    "X_test_scaled = X_scaler.transform(X_test)\n",
    "\n",
    "label_encoder = LabelEncoder()\n",
    "label_encoder.fit(y_train)\n",
    "\n",
    "encoded_y_train = label_encoder.transform(y_train)\n",
    "encoded_y_test = label_encoder.transform(y_test)\n",
    "\n",
    "\n",
    "# Step 2: Convert encoded labels to one-hot-encoding\n",
    "y_train_categorical = to_categorical(encoded_y_train)\n",
    "y_test_categorical = to_categorical(encoded_y_test)\n",
    "\n",
    "## testing last line\n",
    "\n",
    "pred_row = [X_train_scaled[-1]]\n",
    "#temp_loan = test_loan.drop(\"Int_Rate\",axis=1)\n",
    "#pred_row.count()\n",
    "print(X_train_scaled[-1])"
   ]
  },
  {
   "cell_type": "code",
   "execution_count": 55,
   "metadata": {},
   "outputs": [
    {
     "name": "stdout",
     "output_type": "stream",
     "text": [
      "16.02\n"
     ]
    }
   ],
   "source": [
    "#=====================FINAL PREDICTION TIME!!!!!!\n",
    "\n",
    "\n",
    "encoded_predictions = model.predict_classes(X_train_scaled)\n",
    "\n",
    "prediction_labels = label_encoder.inverse_transform(encoded_predictions)\n",
    "\n",
    "\n",
    "print(prediction_labels[-1])\n",
    "\n",
    "\n",
    "#print(f\"Predicted Interest Rate: {prediction_labels}\")\n",
    "#print(f\"Actual Interest Rate: {list(y_test[:25])}\")"
   ]
  }
 ],
 "metadata": {
  "kernelspec": {
   "display_name": "Python 3",
   "language": "python",
   "name": "python3"
  },
  "language_info": {
   "codemirror_mode": {
    "name": "ipython",
    "version": 3
   },
   "file_extension": ".py",
   "mimetype": "text/x-python",
   "name": "python",
   "nbconvert_exporter": "python",
   "pygments_lexer": "ipython3",
   "version": "3.6.3"
  }
 },
 "nbformat": 4,
 "nbformat_minor": 2
}
